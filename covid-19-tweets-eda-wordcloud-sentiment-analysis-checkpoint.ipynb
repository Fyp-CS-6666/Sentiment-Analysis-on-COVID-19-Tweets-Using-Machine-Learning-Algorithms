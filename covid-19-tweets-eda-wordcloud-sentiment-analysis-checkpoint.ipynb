{
 "cells": [
  {
   "cell_type": "markdown",
   "metadata": {},
   "source": [
    "# Importing the necessary libraries:"
   ]
  },
  {
   "cell_type": "code",
   "execution_count": 14,
   "metadata": {
    "_cell_guid": "b1076dfc-b9ad-4769-8c92-a6c4dae69d19",
    "_uuid": "8f2839f25d086af736a60e9eeb907d3b93b6e0e5"
   },
   "outputs": [
    {
     "name": "stdout",
     "output_type": "stream",
     "text": [
      "Requirement already satisfied: millify in c:\\users\\fida muhammad khan\\anaconda3\\lib\\site-packages (0.1.1)\n"
     ]
    },
    {
     "name": "stderr",
     "output_type": "stream",
     "text": [
      "WARNING: Ignoring invalid distribution -umpy (c:\\users\\fida muhammad khan\\anaconda3\\lib\\site-packages)\n",
      "WARNING: Ignoring invalid distribution -atplotlib (c:\\users\\fida muhammad khan\\anaconda3\\lib\\site-packages)\n",
      "WARNING: Ignoring invalid distribution -umpy (c:\\users\\fida muhammad khan\\anaconda3\\lib\\site-packages)\n",
      "WARNING: Ignoring invalid distribution -atplotlib (c:\\users\\fida muhammad khan\\anaconda3\\lib\\site-packages)\n",
      "WARNING: Ignoring invalid distribution -umpy (c:\\users\\fida muhammad khan\\anaconda3\\lib\\site-packages)\n",
      "WARNING: Ignoring invalid distribution -atplotlib (c:\\users\\fida muhammad khan\\anaconda3\\lib\\site-packages)\n",
      "WARNING: Ignoring invalid distribution -umpy (c:\\users\\fida muhammad khan\\anaconda3\\lib\\site-packages)\n",
      "WARNING: Ignoring invalid distribution -atplotlib (c:\\users\\fida muhammad khan\\anaconda3\\lib\\site-packages)\n",
      "WARNING: Ignoring invalid distribution -umpy (c:\\users\\fida muhammad khan\\anaconda3\\lib\\site-packages)\n",
      "WARNING: Ignoring invalid distribution -atplotlib (c:\\users\\fida muhammad khan\\anaconda3\\lib\\site-packages)\n",
      "WARNING: Ignoring invalid distribution -umpy (c:\\users\\fida muhammad khan\\anaconda3\\lib\\site-packages)\n",
      "WARNING: Ignoring invalid distribution -atplotlib (c:\\users\\fida muhammad khan\\anaconda3\\lib\\site-packages)\n",
      "WARNING: You are using pip version 22.0.2; however, version 22.1.2 is available.\n",
      "You should consider upgrading via the 'c:\\users\\fida muhammad khan\\anaconda3\\python.exe -m pip install --upgrade pip' command.\n"
     ]
    }
   ],
   "source": [
    "import numpy             as np\n",
    "import pandas            as pd\n",
    "import matplotlib.pyplot as plt\n",
    "import seaborn           as sns\n",
    "import plotly.graph_objs as go\n",
    "import plotly.express    as px \n",
    "\n",
    "!pip install millify\n",
    "from millify     import millify\n",
    "from scipy.stats import norm\n",
    "from wordcloud   import WordCloud, STOPWORDS\n",
    "from textblob import TextBlob\n",
    "import re\n",
    "from collections import Counter\n",
    "\n",
    "from sklearn.metrics import classification_report,accuracy_score,confusion_matrix\n",
    "from IPython.display import Markdown as md\n",
    "\n",
    "import warnings\n",
    "warnings.filterwarnings(\"ignore\")"
   ]
  },
  {
   "cell_type": "markdown",
   "metadata": {},
   "source": [
    "# Data Underestanding"
   ]
  },
  {
   "cell_type": "markdown",
   "metadata": {},
   "source": [
    "# Improting the dataset into the kernel"
   ]
  },
  {
   "cell_type": "code",
   "execution_count": 15,
   "metadata": {},
   "outputs": [
    {
     "data": {
      "text/html": [
       "<div>\n",
       "<style scoped>\n",
       "    .dataframe tbody tr th:only-of-type {\n",
       "        vertical-align: middle;\n",
       "    }\n",
       "\n",
       "    .dataframe tbody tr th {\n",
       "        vertical-align: top;\n",
       "    }\n",
       "\n",
       "    .dataframe thead th {\n",
       "        text-align: right;\n",
       "    }\n",
       "</style>\n",
       "<table border=\"1\" class=\"dataframe\">\n",
       "  <thead>\n",
       "    <tr style=\"text-align: right;\">\n",
       "      <th></th>\n",
       "      <th>sentiment</th>\n",
       "      <th>Sentiment Score</th>\n",
       "      <th>text</th>\n",
       "      <th>Source</th>\n",
       "    </tr>\n",
       "  </thead>\n",
       "  <tbody>\n",
       "    <tr>\n",
       "      <th>0</th>\n",
       "      <td>fear</td>\n",
       "      <td>2</td>\n",
       "      <td>People and businesspersons living in continued...</td>\n",
       "      <td>Twitter</td>\n",
       "    </tr>\n",
       "    <tr>\n",
       "      <th>1</th>\n",
       "      <td>sad</td>\n",
       "      <td>4</td>\n",
       "      <td>We must remember; most people are susceptible ...</td>\n",
       "      <td>Twitter</td>\n",
       "    </tr>\n",
       "    <tr>\n",
       "      <th>2</th>\n",
       "      <td>sad</td>\n",
       "      <td>4</td>\n",
       "      <td>It is advised that we don't blame the spread o...</td>\n",
       "      <td>Twitter</td>\n",
       "    </tr>\n",
       "    <tr>\n",
       "      <th>3</th>\n",
       "      <td>joy</td>\n",
       "      <td>3</td>\n",
       "      <td>NTDC Successfully Installed 600 MVA Transforme...</td>\n",
       "      <td>Twitter</td>\n",
       "    </tr>\n",
       "    <tr>\n",
       "      <th>4</th>\n",
       "      <td>fear</td>\n",
       "      <td>2</td>\n",
       "      <td>Corona cases worldwide reach 15,945,037 and fa...</td>\n",
       "      <td>Twitter</td>\n",
       "    </tr>\n",
       "  </tbody>\n",
       "</table>\n",
       "</div>"
      ],
      "text/plain": [
       "  sentiment  Sentiment Score  \\\n",
       "0      fear                2   \n",
       "1       sad                4   \n",
       "2       sad                4   \n",
       "3       joy                3   \n",
       "4      fear                2   \n",
       "\n",
       "                                                text   Source  \n",
       "0  People and businesspersons living in continued...  Twitter  \n",
       "1  We must remember; most people are susceptible ...  Twitter  \n",
       "2  It is advised that we don't blame the spread o...  Twitter  \n",
       "3  NTDC Successfully Installed 600 MVA Transforme...  Twitter  \n",
       "4  Corona cases worldwide reach 15,945,037 and fa...  Twitter  "
      ]
     },
     "execution_count": 15,
     "metadata": {},
     "output_type": "execute_result"
    }
   ],
   "source": [
    "df=pd.read_csv(\"C:/Users/Fida Muhammad Khan/Desktop/Zahid Ali Shah Covid 19 tweets  Project/finalSentimentdata2.csv\")\n",
    "df.head()"
   ]
  },
  {
   "cell_type": "code",
   "execution_count": 16,
   "metadata": {},
   "outputs": [
    {
     "data": {
      "text/plain": [
       "(3318, 4)"
      ]
     },
     "execution_count": 16,
     "metadata": {},
     "output_type": "execute_result"
    }
   ],
   "source": [
    "df.shape"
   ]
  },
  {
   "cell_type": "code",
   "execution_count": 17,
   "metadata": {},
   "outputs": [
    {
     "name": "stdout",
     "output_type": "stream",
     "text": [
      "There are 3318 rows and 4 columns in the dataset\n"
     ]
    }
   ],
   "source": [
    "print('There are {} rows and {} columns in the dataset'.format(df.shape[0], df.shape[1]))"
   ]
  },
  {
   "cell_type": "code",
   "execution_count": 18,
   "metadata": {},
   "outputs": [
    {
     "name": "stdout",
     "output_type": "stream",
     "text": [
      "<class 'pandas.core.frame.DataFrame'>\n",
      "RangeIndex: 3318 entries, 0 to 3317\n",
      "Data columns (total 4 columns):\n",
      " #   Column           Non-Null Count  Dtype \n",
      "---  ------           --------------  ----- \n",
      " 0   sentiment        3318 non-null   object\n",
      " 1   Sentiment Score  3318 non-null   int64 \n",
      " 2   text             3318 non-null   object\n",
      " 3   Source           3318 non-null   object\n",
      "dtypes: int64(1), object(3)\n",
      "memory usage: 103.8+ KB\n"
     ]
    }
   ],
   "source": [
    "#let's get some information about the data types of our dataset by executing the code below\n",
    "df.info()"
   ]
  },
  {
   "cell_type": "markdown",
   "metadata": {},
   "source": [
    "### Missing Values"
   ]
  },
  {
   "cell_type": "code",
   "execution_count": 19,
   "metadata": {},
   "outputs": [
    {
     "data": {
      "text/plain": [
       "sentiment          0\n",
       "Sentiment Score    0\n",
       "text               0\n",
       "Source             0\n",
       "dtype: int64"
      ]
     },
     "execution_count": 19,
     "metadata": {},
     "output_type": "execute_result"
    }
   ],
   "source": [
    "#Let's find out about the missing values in the dataset by executing the code below:\n",
    "df.isna().sum()"
   ]
  },
  {
   "cell_type": "markdown",
   "metadata": {},
   "source": [
    "# Data Visualization"
   ]
  },
  {
   "cell_type": "markdown",
   "metadata": {},
   "source": [
    "# Let's visualizing the missing values"
   ]
  },
  {
   "cell_type": "code",
   "execution_count": 20,
   "metadata": {},
   "outputs": [],
   "source": [
    "missing_values = pd.DataFrame()\n",
    "missing_values['column'] = df.columns\n",
    "\n",
    "missing_values['percent'] = [round(100* df[col].isnull().sum() / len(df), 2) for col in df.columns]\n",
    "missing_values = missing_values.sort_values('percent')\n",
    "missing_values = missing_values[missing_values['percent']>0]"
   ]
  },
  {
   "cell_type": "markdown",
   "metadata": {},
   "source": [
    "# Sentiment Analysis on Covid19 Tweets"
   ]
  },
  {
   "cell_type": "code",
   "execution_count": 21,
   "metadata": {},
   "outputs": [
    {
     "data": {
      "text/html": [
       "<div>\n",
       "<style scoped>\n",
       "    .dataframe tbody tr th:only-of-type {\n",
       "        vertical-align: middle;\n",
       "    }\n",
       "\n",
       "    .dataframe tbody tr th {\n",
       "        vertical-align: top;\n",
       "    }\n",
       "\n",
       "    .dataframe thead th {\n",
       "        text-align: right;\n",
       "    }\n",
       "</style>\n",
       "<table border=\"1\" class=\"dataframe\">\n",
       "  <thead>\n",
       "    <tr style=\"text-align: right;\">\n",
       "      <th></th>\n",
       "      <th>sentiment</th>\n",
       "      <th>Sentiment Score</th>\n",
       "      <th>text</th>\n",
       "      <th>Source</th>\n",
       "    </tr>\n",
       "  </thead>\n",
       "  <tbody>\n",
       "    <tr>\n",
       "      <th>0</th>\n",
       "      <td>fear</td>\n",
       "      <td>2</td>\n",
       "      <td>People and businesspersons living in continued...</td>\n",
       "      <td>Twitter</td>\n",
       "    </tr>\n",
       "    <tr>\n",
       "      <th>1</th>\n",
       "      <td>sad</td>\n",
       "      <td>4</td>\n",
       "      <td>We must remember; most people are susceptible ...</td>\n",
       "      <td>Twitter</td>\n",
       "    </tr>\n",
       "    <tr>\n",
       "      <th>2</th>\n",
       "      <td>sad</td>\n",
       "      <td>4</td>\n",
       "      <td>It is advised that we don't blame the spread o...</td>\n",
       "      <td>Twitter</td>\n",
       "    </tr>\n",
       "    <tr>\n",
       "      <th>3</th>\n",
       "      <td>joy</td>\n",
       "      <td>3</td>\n",
       "      <td>NTDC Successfully Installed 600 MVA Transforme...</td>\n",
       "      <td>Twitter</td>\n",
       "    </tr>\n",
       "    <tr>\n",
       "      <th>4</th>\n",
       "      <td>fear</td>\n",
       "      <td>2</td>\n",
       "      <td>Corona cases worldwide reach 15,945,037 and fa...</td>\n",
       "      <td>Twitter</td>\n",
       "    </tr>\n",
       "  </tbody>\n",
       "</table>\n",
       "</div>"
      ],
      "text/plain": [
       "  sentiment  Sentiment Score  \\\n",
       "0      fear                2   \n",
       "1       sad                4   \n",
       "2       sad                4   \n",
       "3       joy                3   \n",
       "4      fear                2   \n",
       "\n",
       "                                                text   Source  \n",
       "0  People and businesspersons living in continued...  Twitter  \n",
       "1  We must remember; most people are susceptible ...  Twitter  \n",
       "2  It is advised that we don't blame the spread o...  Twitter  \n",
       "3  NTDC Successfully Installed 600 MVA Transforme...  Twitter  \n",
       "4  Corona cases worldwide reach 15,945,037 and fa...  Twitter  "
      ]
     },
     "execution_count": 21,
     "metadata": {},
     "output_type": "execute_result"
    }
   ],
   "source": [
    "data = pd.read_csv('C:/Users/Fida Muhammad Khan/Desktop/Zahid Ali Shah Covid 19 tweets  Project/finalSentimentdata2.csv')\n",
    "data.head()"
   ]
  },
  {
   "cell_type": "markdown",
   "metadata": {},
   "source": [
    "* Count plot of sentiments,we can see that sad and fear are prevailing which is quite obvious"
   ]
  },
  {
   "cell_type": "code",
   "execution_count": 22,
   "metadata": {},
   "outputs": [
    {
     "data": {
      "text/plain": [
       "<AxesSubplot:xlabel='sentiment', ylabel='count'>"
      ]
     },
     "execution_count": 22,
     "metadata": {},
     "output_type": "execute_result"
    },
    {
     "data": {
      "image/png": "[encoded data removed]",
      "text/plain": [
       "<Figure size 432x288 with 1 Axes>"
      ]
     },
     "metadata": {
      "needs_background": "light"
     },
     "output_type": "display_data"
    }
   ],
   "source": [
    "sns.countplot(data['sentiment'])"
   ]
  },
  {
   "cell_type": "markdown",
   "metadata": {},
   "source": [
    "# Data Preprocessing\n",
    "Now let us preprocess text using some NLP tchniques like:\n",
    "\n",
    "* converting to lowercase\n",
    "* remove text in square brackets,\n",
    "* remove links,\n",
    "* remove punctuation\n",
    "* remove words containing numbers\n",
    "* Removing Punctuation\n",
    "* Removing stopwords\n",
    "* Stemming\n",
    "* Lemmatization"
   ]
  },
  {
   "cell_type": "code",
   "execution_count": 23,
   "metadata": {},
   "outputs": [],
   "source": [
    "#importing the necessary libraries for preprocessing of the dataset\n",
    "import nltk\n",
    "import re\n",
    "import string"
   ]
  },
  {
   "cell_type": "markdown",
   "metadata": {},
   "source": [
    "* A function to clean data it removes all the punctuation marks, urls etc"
   ]
  },
  {
   "cell_type": "code",
   "execution_count": 24,
   "metadata": {},
   "outputs": [],
   "source": [
    "def clean_text(text):\n",
    "    '''Make text lowercase, remove text in square brackets,remove links,remove punctuation\n",
    "    and remove words containing numbers.'''\n",
    "    text = text.lower()\n",
    "    text = re.sub('\\[.*?\\]', '', text)\n",
    "    text = re.sub('https?://\\S+|www\\.\\S+', '', text)\n",
    "    text = re.sub('<.*?>+', '', text)\n",
    "    text = re.sub('[%s]' % re.escape(string.punctuation), '', text)\n",
    "    text = re.sub('\\n', '', text)\n",
    "    text = re.sub('\\w*\\d\\w*', '', text)\n",
    "    return text"
   ]
  },
  {
   "cell_type": "code",
   "execution_count": 25,
   "metadata": {},
   "outputs": [],
   "source": [
    "data['text'] = data['text'].apply(lambda x: clean_text(x))"
   ]
  },
  {
   "attachments": {
    "download.jfif": {
     "image/jpeg": "[encoded data removed]"
    }
   },
   "cell_type": "markdown",
   "metadata": {},
   "source": [
    "# Removing the Emoji\n",
    "![download.jfif](attachment:download.jfif)"
   ]
  },
  {
   "cell_type": "code",
   "execution_count": 26,
   "metadata": {},
   "outputs": [],
   "source": [
    "def remove_emoji(text):\n",
    "    emoji_pattern = re.compile(\"[\"\n",
    "                           u\"\\U0001F600-\\U0001F64F\"  # emoticons\n",
    "                           u\"\\U0001F300-\\U0001F5FF\"  # symbols & pictographs\n",
    "                           u\"\\U0001F680-\\U0001F6FF\"  # transport & map symbols\n",
    "                           u\"\\U0001F1E0-\\U0001F1FF\"  # flags (iOS)\n",
    "                           u\"\\U00002702-\\U000027B0\"\n",
    "                           u\"\\U000024C2-\\U0001F251\"\n",
    "                           \"]+\", flags=re.UNICODE)\n",
    "    return emoji_pattern.sub(r'', text)\n",
    "\n"
   ]
  },
  {
   "cell_type": "code",
   "execution_count": 27,
   "metadata": {},
   "outputs": [],
   "source": [
    "data['text']=data['text'].apply(lambda x: remove_emoji(x))"
   ]
  },
  {
   "cell_type": "markdown",
   "metadata": {},
   "source": [
    "* Checking the maximum length of tweet"
   ]
  },
  {
   "cell_type": "code",
   "execution_count": 28,
   "metadata": {},
   "outputs": [
    {
     "data": {
      "text/plain": [
       "61"
      ]
     },
     "execution_count": 28,
     "metadata": {},
     "output_type": "execute_result"
    }
   ],
   "source": [
    "data['text'].apply(lambda x:len(str(x).split())).max()"
   ]
  },
  {
   "cell_type": "markdown",
   "metadata": {},
   "source": [
    "# Splitting the dataset"
   ]
  },
  {
   "cell_type": "code",
   "execution_count": 29,
   "metadata": {},
   "outputs": [
    {
     "name": "stdout",
     "output_type": "stream",
     "text": [
      "train shape :  (2654, 4)\n",
      "valid shape :  (664, 4)\n"
     ]
    }
   ],
   "source": [
    "from sklearn.model_selection import train_test_split\n",
    "\n",
    "train,valid = train_test_split(data,test_size = 0.2,random_state=0,stratify = data.sentiment.values) #stratification means that the train_test_split method returns training and test subsets that have the same proportions of class labels as the input dataset.\n",
    "print(\"train shape : \", train.shape)\n",
    "print(\"valid shape : \", valid.shape)"
   ]
  },
  {
   "cell_type": "markdown",
   "metadata": {},
   "source": [
    "# Vectorizing"
   ]
  },
  {
   "cell_type": "markdown",
   "metadata": {},
   "source": [
    "* We are going to use CountVectorizer for the following steps"
   ]
  },
  {
   "cell_type": "code",
   "execution_count": 30,
   "metadata": {},
   "outputs": [
    {
     "name": "stdout",
     "output_type": "stream",
     "text": [
      "X_train.shape :  (2654, 8880)\n",
      "X_train.shape :  (664, 8880)\n",
      "y_train.shape :  (2654,)\n",
      "y_valid.shape :  (664,)\n"
     ]
    }
   ],
   "source": [
    "from sklearn.feature_extraction.text import CountVectorizer\n",
    "from nltk.corpus import stopwords\n",
    "stop = list(stopwords.words('english'))\n",
    "vectorizer = CountVectorizer(decode_error = 'replace',stop_words = stop)\n",
    "\n",
    "X_train = vectorizer.fit_transform(train.text.values)\n",
    "X_valid = vectorizer.transform(valid.text.values)\n",
    "\n",
    "y_train = train.sentiment.values\n",
    "y_valid = valid.sentiment.values\n",
    "\n",
    "print(\"X_train.shape : \", X_train.shape)\n",
    "print(\"X_train.shape : \", X_valid.shape)\n",
    "print(\"y_train.shape : \", y_train.shape)\n",
    "print(\"y_valid.shape : \", y_valid.shape)"
   ]
  },
  {
   "cell_type": "markdown",
   "metadata": {},
   "source": [
    "# ML model building"
   ]
  },
  {
   "cell_type": "markdown",
   "metadata": {},
   "source": [
    "# Naive Bayes"
   ]
  },
  {
   "cell_type": "code",
   "execution_count": 31,
   "metadata": {},
   "outputs": [
    {
     "name": "stdout",
     "output_type": "stream",
     "text": [
      "training accuracy Score    :  0.9446119065561417\n",
      "Validation accuracy Score :  0.6400602409638554\n",
      "              precision    recall  f1-score   support\n",
      "\n",
      "       anger       0.49      0.61      0.54       125\n",
      "        fear       0.67      0.54      0.60       208\n",
      "         joy       0.63      0.84      0.72       114\n",
      "         sad       0.75      0.65      0.69       217\n",
      "\n",
      "    accuracy                           0.64       664\n",
      "   macro avg       0.63      0.66      0.64       664\n",
      "weighted avg       0.65      0.64      0.64       664\n",
      "\n"
     ]
    }
   ],
   "source": [
    "from sklearn.naive_bayes import MultinomialNB\n",
    "\n",
    "naiveByes_clf = MultinomialNB()\n",
    "\n",
    "naiveByes_clf.fit(X_train,y_train)\n",
    "\n",
    "NB_prediction = naiveByes_clf.predict(X_valid)\n",
    "NB_accuracy = accuracy_score(y_valid,NB_prediction)\n",
    "print(\"training accuracy Score    : \",naiveByes_clf.score(X_train,y_train))\n",
    "print(\"Validation accuracy Score : \",NB_accuracy )\n",
    "print(classification_report(NB_prediction,y_valid))"
   ]
  },
  {
   "cell_type": "markdown",
   "metadata": {},
   "source": [
    "# Stochastic Gradient Descent"
   ]
  },
  {
   "cell_type": "code",
   "execution_count": 32,
   "metadata": {},
   "outputs": [
    {
     "name": "stdout",
     "output_type": "stream",
     "text": [
      "Training accuracy Score    :  0.9984928409947249\n",
      "Validation accuracy Score :  0.6219879518072289\n",
      "              precision    recall  f1-score   support\n",
      "\n",
      "       anger       0.53      0.57      0.55       145\n",
      "        fear       0.60      0.60      0.60       167\n",
      "         joy       0.71      0.62      0.66       174\n",
      "         sad       0.65      0.69      0.67       178\n",
      "\n",
      "    accuracy                           0.62       664\n",
      "   macro avg       0.62      0.62      0.62       664\n",
      "weighted avg       0.63      0.62      0.62       664\n",
      "\n"
     ]
    }
   ],
   "source": [
    "from sklearn.linear_model import SGDClassifier\n",
    "\n",
    "sgd_clf = SGDClassifier(loss = 'hinge', penalty = 'l2', random_state=0)\n",
    "\n",
    "sgd_clf.fit(X_train,y_train)\n",
    "\n",
    "sgd_prediction = sgd_clf.predict(X_valid)\n",
    "sgd_accuracy = accuracy_score(y_valid,sgd_prediction)\n",
    "print(\"Training accuracy Score    : \",sgd_clf.score(X_train,y_train))\n",
    "print(\"Validation accuracy Score : \",sgd_accuracy )\n",
    "print(classification_report(sgd_prediction,y_valid))"
   ]
  },
  {
   "cell_type": "markdown",
   "metadata": {},
   "source": [
    "# Random Forest"
   ]
  },
  {
   "cell_type": "code",
   "execution_count": 33,
   "metadata": {},
   "outputs": [
    {
     "name": "stdout",
     "output_type": "stream",
     "text": [
      "Training accuracy Score    :  0.9992464204973625\n",
      "Validation accuracy Score :  0.5993975903614458\n",
      "              precision    recall  f1-score   support\n",
      "\n",
      "       anger       0.55      0.58      0.56       147\n",
      "        fear       0.51      0.69      0.58       124\n",
      "         joy       0.80      0.51      0.62       240\n",
      "         sad       0.56      0.69      0.62       153\n",
      "\n",
      "    accuracy                           0.60       664\n",
      "   macro avg       0.60      0.62      0.60       664\n",
      "weighted avg       0.63      0.60      0.60       664\n",
      "\n"
     ]
    }
   ],
   "source": [
    "from sklearn.ensemble import RandomForestClassifier\n",
    "\n",
    "rf_clf = RandomForestClassifier()\n",
    "\n",
    "rf_clf.fit(X_train,y_train)\n",
    "\n",
    "rf_prediction = rf_clf.predict(X_valid)\n",
    "rf_accuracy = accuracy_score(y_valid,rf_prediction)\n",
    "print(\"Training accuracy Score    : \",rf_clf.score(X_train,y_train))\n",
    "print(\"Validation accuracy Score : \",rf_accuracy )\n",
    "print(classification_report(rf_prediction,y_valid))"
   ]
  },
  {
   "cell_type": "markdown",
   "metadata": {},
   "source": [
    "# Extreme Gradient Boosting"
   ]
  },
  {
   "cell_type": "code",
   "execution_count": 34,
   "metadata": {},
   "outputs": [
    {
     "name": "stdout",
     "output_type": "stream",
     "text": [
      "[10:16:51] WARNING: C:/Users/Administrator/workspace/xgboost-win64_release_1.5.1/src/learner.cc:1115: Starting in XGBoost 1.3.0, the default evaluation metric used with the objective 'multi:softprob' was changed from 'merror' to 'mlogloss'. Explicitly set eval_metric if you'd like to restore the old behavior.\n",
      "Training accuracy Score    :  0.8831951770911831\n",
      "Validation accuracy Score :  0.6234939759036144\n",
      "              precision    recall  f1-score   support\n",
      "\n",
      "       anger       0.51      0.56      0.54       140\n",
      "        fear       0.55      0.62      0.58       150\n",
      "         joy       0.75      0.63      0.68       181\n",
      "         sad       0.68      0.66      0.67       193\n",
      "\n",
      "    accuracy                           0.62       664\n",
      "   macro avg       0.62      0.62      0.62       664\n",
      "weighted avg       0.63      0.62      0.63       664\n",
      "\n"
     ]
    }
   ],
   "source": [
    "#takes huge amount of time to execute\n",
    "import xgboost as xgb\n",
    "\n",
    "xgboost_clf = xgb.XGBClassifier()\n",
    "\n",
    "xgboost_clf.fit(X_train, y_train)\n",
    "\n",
    "xgb_prediction = xgboost_clf.predict(X_valid)\n",
    "xgb_accuracy = accuracy_score(y_valid,xgb_prediction)\n",
    "print(\"Training accuracy Score    : \",xgboost_clf.score(X_train,y_train))\n",
    "print(\"Validation accuracy Score : \",xgb_accuracy )\n",
    "print(classification_report(xgb_prediction,y_valid))"
   ]
  },
  {
   "cell_type": "markdown",
   "metadata": {},
   "source": [
    "# Support Vector Machine"
   ]
  },
  {
   "cell_type": "code",
   "execution_count": 35,
   "metadata": {},
   "outputs": [
    {
     "name": "stdout",
     "output_type": "stream",
     "text": [
      "Training accuracy Score    :  0.942351168048229\n",
      "Validation accuracy Score :  0.5948795180722891\n",
      "              precision    recall  f1-score   support\n",
      "\n",
      "       anger       0.44      0.61      0.51       109\n",
      "        fear       0.54      0.59      0.57       153\n",
      "         joy       0.73      0.54      0.62       204\n",
      "         sad       0.67      0.64      0.65       198\n",
      "\n",
      "    accuracy                           0.59       664\n",
      "   macro avg       0.59      0.60      0.59       664\n",
      "weighted avg       0.62      0.59      0.60       664\n",
      "\n"
     ]
    }
   ],
   "source": [
    "from sklearn.svm import SVC\n",
    "\n",
    "svc = SVC()\n",
    "\n",
    "svc.fit(X_train, y_train)\n",
    "\n",
    "svc_prediction = svc.predict(X_valid)\n",
    "svc_accuracy = accuracy_score(y_valid,svc_prediction)\n",
    "print(\"Training accuracy Score    : \",svc.score(X_train,y_train))\n",
    "print(\"Validation accuracy Score : \",svc_accuracy )\n",
    "print(classification_report(svc_prediction,y_valid))"
   ]
  },
  {
   "cell_type": "markdown",
   "metadata": {},
   "source": [
    "# Logistic Regression"
   ]
  },
  {
   "cell_type": "code",
   "execution_count": 36,
   "metadata": {},
   "outputs": [
    {
     "name": "stdout",
     "output_type": "stream",
     "text": [
      "Training accuracy Score    :  0.9962321024868124\n",
      "Validation accuracy Score :  0.6430722891566265\n",
      "              precision    recall  f1-score   support\n",
      "\n",
      "       anger       0.54      0.56      0.55       149\n",
      "        fear       0.60      0.60      0.60       167\n",
      "         joy       0.73      0.72      0.72       156\n",
      "         sad       0.69      0.68      0.69       192\n",
      "\n",
      "    accuracy                           0.64       664\n",
      "   macro avg       0.64      0.64      0.64       664\n",
      "weighted avg       0.64      0.64      0.64       664\n",
      "\n"
     ]
    }
   ],
   "source": [
    "from sklearn.linear_model import LogisticRegression\n",
    "logreg = LogisticRegression()\n",
    "\n",
    "logreg.fit(X_train, y_train)\n",
    "\n",
    "logreg_prediction = logreg.predict(X_valid)\n",
    "logreg_accuracy = accuracy_score(y_valid,logreg_prediction)\n",
    "print(\"Training accuracy Score    : \",logreg.score(X_train,y_train))\n",
    "print(\"Validation accuracy Score : \",logreg_accuracy )\n",
    "print(classification_report(logreg_prediction,y_valid))"
   ]
  },
  {
   "cell_type": "code",
   "execution_count": 37,
   "metadata": {},
   "outputs": [
    {
     "data": {
      "text/html": [
       "<div>\n",
       "<style scoped>\n",
       "    .dataframe tbody tr th:only-of-type {\n",
       "        vertical-align: middle;\n",
       "    }\n",
       "\n",
       "    .dataframe tbody tr th {\n",
       "        vertical-align: top;\n",
       "    }\n",
       "\n",
       "    .dataframe thead th {\n",
       "        text-align: right;\n",
       "    }\n",
       "</style>\n",
       "<table border=\"1\" class=\"dataframe\">\n",
       "  <thead>\n",
       "    <tr style=\"text-align: right;\">\n",
       "      <th></th>\n",
       "      <th>Model</th>\n",
       "      <th>Test accuracy</th>\n",
       "    </tr>\n",
       "  </thead>\n",
       "  <tbody>\n",
       "    <tr>\n",
       "      <th>1</th>\n",
       "      <td>Logistic Regression</td>\n",
       "      <td>0.643072</td>\n",
       "    </tr>\n",
       "    <tr>\n",
       "      <th>3</th>\n",
       "      <td>Naive Bayes</td>\n",
       "      <td>0.640060</td>\n",
       "    </tr>\n",
       "    <tr>\n",
       "      <th>5</th>\n",
       "      <td>XGBoost</td>\n",
       "      <td>0.623494</td>\n",
       "    </tr>\n",
       "    <tr>\n",
       "      <th>4</th>\n",
       "      <td>Stochastic Gradient Decent</td>\n",
       "      <td>0.621988</td>\n",
       "    </tr>\n",
       "    <tr>\n",
       "      <th>2</th>\n",
       "      <td>Random Forest</td>\n",
       "      <td>0.599398</td>\n",
       "    </tr>\n",
       "    <tr>\n",
       "      <th>0</th>\n",
       "      <td>Support Vector Machines</td>\n",
       "      <td>0.594880</td>\n",
       "    </tr>\n",
       "  </tbody>\n",
       "</table>\n",
       "</div>"
      ],
      "text/plain": [
       "                        Model  Test accuracy\n",
       "1         Logistic Regression       0.643072\n",
       "3                 Naive Bayes       0.640060\n",
       "5                     XGBoost       0.623494\n",
       "4  Stochastic Gradient Decent       0.621988\n",
       "2               Random Forest       0.599398\n",
       "0     Support Vector Machines       0.594880"
      ]
     },
     "execution_count": 37,
     "metadata": {},
     "output_type": "execute_result"
    }
   ],
   "source": [
    "models = pd.DataFrame({\n",
    "    'Model': ['Support Vector Machines', 'Logistic Regression', \n",
    "              'Random Forest', 'Naive Bayes', \n",
    "              'Stochastic Gradient Decent', 'XGBoost'],\n",
    "    'Test accuracy': [svc_accuracy, logreg_accuracy, \n",
    "              rf_accuracy, NB_accuracy, \n",
    "              sgd_accuracy, xgb_accuracy,]})\n",
    "\n",
    "models.sort_values(by='Test accuracy', ascending=False)"
   ]
  },
  {
   "cell_type": "code",
   "execution_count": null,
   "metadata": {},
   "outputs": [],
   "source": []
  },
  {
   "cell_type": "code",
   "execution_count": null,
   "metadata": {},
   "outputs": [],
   "source": []
  }
 ],
 "metadata": {
  "kernelspec": {
   "display_name": "Python 3",
   "language": "python",
   "name": "python3"
  },
  "language_info": {
   "codemirror_mode": {
    "name": "ipython",
    "version": 3
   },
   "file_extension": ".py",
   "mimetype": "text/x-python",
   "name": "python",
   "nbconvert_exporter": "python",
   "pygments_lexer": "ipython3",
   "version": "3.8.3"
  }
 },
 "nbformat": 4,
 "nbformat_minor": 4
}
